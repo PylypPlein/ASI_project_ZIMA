{
 "cells": [
  {
   "metadata": {},
   "cell_type": "markdown",
   "source": "Import bibliotek i wczytanie danych",
   "id": "7194de589e3b9ae3"
  },
  {
   "metadata": {
    "ExecuteTime": {
     "end_time": "2025-10-13T17:16:39.250383Z",
     "start_time": "2025-10-13T17:16:39.221373Z"
    }
   },
   "cell_type": "code",
   "source": [
    "import pandas as pd\n",
    "import numpy as np\n",
    "from scipy import stats\n",
    "\n",
    "df = pd.read_csv('../data/01_raw/sample.csv', sep=';')\n",
    "df.columns = df.columns.str.strip()"
   ],
   "id": "1929b869b4bfac19",
   "outputs": [],
   "execution_count": 2
  },
  {
   "metadata": {},
   "cell_type": "markdown",
   "source": "Zamiana danych kategorycznych na liczby",
   "id": "91f2ffdf03058582"
  },
  {
   "metadata": {
    "ExecuteTime": {
     "end_time": "2025-10-13T17:16:41.565255Z",
     "start_time": "2025-10-13T17:16:41.554538Z"
    }
   },
   "cell_type": "code",
   "source": [
    "gender_map = {'Female': 0, 'Male': 1}\n",
    "customer_map = {'Loyal Customer': 1, 'disloyal Customer': 0}\n",
    "travel_map = {'Business travel': 1, 'Personal Travel': 0}\n",
    "class_map = {'Business': 2, 'Eco Plus': 1, 'Eco': 0}\n",
    "satisfaction_map = {'satisfied': 1, 'neutral or dissatisfied': 0}\n",
    "\n",
    "df['Gender'] = df['Gender'].map(gender_map)\n",
    "df['Customer Type'] = df['Customer Type'].map(customer_map)\n",
    "df['Type of Travel'] = df['Type of Travel'].map(travel_map)\n",
    "df['Class'] = df['Class'].map(class_map)\n",
    "df['satisfaction'] = df['satisfaction'].map(satisfaction_map)"
   ],
   "id": "3851dfdea8a62c12",
   "outputs": [],
   "execution_count": 3
  },
  {
   "metadata": {},
   "cell_type": "markdown",
   "source": "Uzupełnienie brakujących wartości średnią z danej kolumny",
   "id": "f8bf3f7d286f76e0"
  },
  {
   "metadata": {
    "ExecuteTime": {
     "end_time": "2025-10-13T17:16:43.575042Z",
     "start_time": "2025-10-13T17:16:43.564504Z"
    }
   },
   "cell_type": "code",
   "source": [
    "rating_columns = [\n",
    "    'Inflight wifi service', 'Departure/Arrival time convenient', 'Ease of Online booking',\n",
    "    'Gate location', 'Food and drink', 'Online boarding', 'Seat comfort', 'Inflight entertainment',\n",
    "    'On-board service', 'Leg room service', 'Baggage handling', 'Checkin service',\n",
    "    'Inflight service', 'Cleanliness'\n",
    "]\n",
    "\n",
    "for col in rating_columns:\n",
    "    mean_val = df.loc[df[col] != 0, col].mean()\n",
    "    df[col] = df[col].replace(0, mean_val)"
   ],
   "id": "3e4d11fb8900754c",
   "outputs": [],
   "execution_count": 4
  },
  {
   "metadata": {},
   "cell_type": "markdown",
   "source": "Uzupełnienie braków w opóźnieniach zerami",
   "id": "ed2184ba562b8ce9"
  },
  {
   "metadata": {
    "ExecuteTime": {
     "end_time": "2025-10-13T17:16:45.472134Z",
     "start_time": "2025-10-13T17:16:45.469168Z"
    }
   },
   "cell_type": "code",
   "source": [
    "df['Departure Delay in Minutes'] = df['Departure Delay in Minutes'].fillna(0)\n",
    "df['Arrival Delay in Minutes'] = df['Arrival Delay in Minutes'].fillna(0)"
   ],
   "id": "97e0cfc4772720fc",
   "outputs": [],
   "execution_count": 5
  },
  {
   "metadata": {},
   "cell_type": "markdown",
   "source": "Usunięcie wartości odstających na podstawie Z-score z progiem 5\n",
   "id": "39ac684c7c5e596a"
  },
  {
   "metadata": {
    "ExecuteTime": {
     "end_time": "2025-10-13T17:16:46.911456Z",
     "start_time": "2025-10-13T17:16:46.903563Z"
    }
   },
   "cell_type": "code",
   "source": [
    "numeric_cols = ['Age', 'Flight Distance', 'Departure Delay in Minutes', 'Arrival Delay in Minutes']\n",
    "z_scores = np.abs(stats.zscore(df[numeric_cols]))\n",
    "threshold = 5\n",
    "df = df[(z_scores < threshold).all(axis=1)]"
   ],
   "id": "b8fbcff4c56060d7",
   "outputs": [],
   "execution_count": 6
  },
  {
   "metadata": {},
   "cell_type": "markdown",
   "source": "Zapis do pliku",
   "id": "a93cf32a17381199"
  },
  {
   "metadata": {
    "ExecuteTime": {
     "end_time": "2025-10-13T17:16:52.906907Z",
     "start_time": "2025-10-13T17:16:52.892043Z"
    }
   },
   "cell_type": "code",
   "source": "df.to_csv('../data/01_raw/sample_clean.csv', index=False)\n",
   "id": "6d6261288867d25",
   "outputs": [],
   "execution_count": 7
  }
 ],
 "metadata": {
  "language_info": {
   "name": "python"
  },
  "kernelspec": {
   "name": "python3",
   "language": "python",
   "display_name": "Python 3 (ipykernel)"
  }
 },
 "nbformat": 4,
 "nbformat_minor": 5
}
