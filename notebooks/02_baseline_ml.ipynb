{
 "cells": [
  {
   "metadata": {
    "ExecuteTime": {
     "end_time": "2025-10-15T20:22:56.648959Z",
     "start_time": "2025-10-15T20:22:56.248889Z"
    }
   },
   "cell_type": "code",
   "source": [
    "\n",
    "import pandas as pd\n",
    "import numpy as np\n",
    "import lightgbm as lgb\n",
    "from sklearn.model_selection import train_test_split\n",
    "from sklearn.metrics import accuracy_score, roc_auc_score, classification_report\n",
    "import matplotlib.pyplot as plt\n",
    "import seaborn as sns\n",
    "\n",
    "sns.set(style=\"whitegrid\")\n"
   ],
   "id": "d407d773d36e46d5",
   "outputs": [],
   "execution_count": 2
  },
  {
   "metadata": {
    "ExecuteTime": {
     "end_time": "2025-10-15T20:22:57.562947Z",
     "start_time": "2025-10-15T20:22:57.494947Z"
    }
   },
   "cell_type": "code",
   "source": [
    "#POPRAWA BOGDAN\n",
    "url = \"C:/Users/kmala/PycharmProjects/ASI_project_ZIMA/data/01_raw/sample.csv\"\n",
    "\n",
    "df = pd.read_csv(url, sep=';', engine='python')\n",
    "\n",
    "df.head()"
   ],
   "id": "4b0982e52c69b904",
   "outputs": [
    {
     "data": {
      "text/plain": [
       "   lp      id  Gender      Customer Type  Age   Type of Travel     Class  \\\n",
       "0   0   70172    Male     Loyal Customer   13  Personal Travel  Eco Plus   \n",
       "1   1    5047    Male  disloyal Customer   25  Business travel  Business   \n",
       "2   2  110028  Female     Loyal Customer   26  Business travel  Business   \n",
       "3   3   24026  Female     Loyal Customer   25  Business travel  Business   \n",
       "4   4  119299    Male     Loyal Customer   61  Business travel  Business   \n",
       "\n",
       "   Flight Distance  Inflight wifi service  Departure/Arrival time convenient  \\\n",
       "0              460                      3                                  4   \n",
       "1              235                      3                                  2   \n",
       "2             1142                      2                                  2   \n",
       "3              562                      2                                  5   \n",
       "4              214                      3                                  3   \n",
       "\n",
       "   ...  Inflight entertainment  On-board service  Leg room service  \\\n",
       "0  ...                       5                 4                 3   \n",
       "1  ...                       1                 1                 5   \n",
       "2  ...                       5                 4                 3   \n",
       "3  ...                       2                 2                 5   \n",
       "4  ...                       3                 3                 4   \n",
       "\n",
       "   Baggage handling  Checkin service  Inflight service  Cleanliness  \\\n",
       "0                 4                4                 5            5   \n",
       "1                 3                1                 4            1   \n",
       "2                 4                4                 4            5   \n",
       "3                 3                1                 4            2   \n",
       "4                 4                3                 3            3   \n",
       "\n",
       "   Departure Delay in Minutes  Arrival Delay in Minutes  \\\n",
       "0                          25                      18.0   \n",
       "1                           1                       6.0   \n",
       "2                           0                       0.0   \n",
       "3                          11                       9.0   \n",
       "4                           0                       0.0   \n",
       "\n",
       "              satisfaction  \n",
       "0  neutral or dissatisfied  \n",
       "1  neutral or dissatisfied  \n",
       "2                satisfied  \n",
       "3  neutral or dissatisfied  \n",
       "4                satisfied  \n",
       "\n",
       "[5 rows x 25 columns]"
      ],
      "text/html": [
       "<div>\n",
       "<style scoped>\n",
       "    .dataframe tbody tr th:only-of-type {\n",
       "        vertical-align: middle;\n",
       "    }\n",
       "\n",
       "    .dataframe tbody tr th {\n",
       "        vertical-align: top;\n",
       "    }\n",
       "\n",
       "    .dataframe thead th {\n",
       "        text-align: right;\n",
       "    }\n",
       "</style>\n",
       "<table border=\"1\" class=\"dataframe\">\n",
       "  <thead>\n",
       "    <tr style=\"text-align: right;\">\n",
       "      <th></th>\n",
       "      <th>lp</th>\n",
       "      <th>id</th>\n",
       "      <th>Gender</th>\n",
       "      <th>Customer Type</th>\n",
       "      <th>Age</th>\n",
       "      <th>Type of Travel</th>\n",
       "      <th>Class</th>\n",
       "      <th>Flight Distance</th>\n",
       "      <th>Inflight wifi service</th>\n",
       "      <th>Departure/Arrival time convenient</th>\n",
       "      <th>...</th>\n",
       "      <th>Inflight entertainment</th>\n",
       "      <th>On-board service</th>\n",
       "      <th>Leg room service</th>\n",
       "      <th>Baggage handling</th>\n",
       "      <th>Checkin service</th>\n",
       "      <th>Inflight service</th>\n",
       "      <th>Cleanliness</th>\n",
       "      <th>Departure Delay in Minutes</th>\n",
       "      <th>Arrival Delay in Minutes</th>\n",
       "      <th>satisfaction</th>\n",
       "    </tr>\n",
       "  </thead>\n",
       "  <tbody>\n",
       "    <tr>\n",
       "      <th>0</th>\n",
       "      <td>0</td>\n",
       "      <td>70172</td>\n",
       "      <td>Male</td>\n",
       "      <td>Loyal Customer</td>\n",
       "      <td>13</td>\n",
       "      <td>Personal Travel</td>\n",
       "      <td>Eco Plus</td>\n",
       "      <td>460</td>\n",
       "      <td>3</td>\n",
       "      <td>4</td>\n",
       "      <td>...</td>\n",
       "      <td>5</td>\n",
       "      <td>4</td>\n",
       "      <td>3</td>\n",
       "      <td>4</td>\n",
       "      <td>4</td>\n",
       "      <td>5</td>\n",
       "      <td>5</td>\n",
       "      <td>25</td>\n",
       "      <td>18.0</td>\n",
       "      <td>neutral or dissatisfied</td>\n",
       "    </tr>\n",
       "    <tr>\n",
       "      <th>1</th>\n",
       "      <td>1</td>\n",
       "      <td>5047</td>\n",
       "      <td>Male</td>\n",
       "      <td>disloyal Customer</td>\n",
       "      <td>25</td>\n",
       "      <td>Business travel</td>\n",
       "      <td>Business</td>\n",
       "      <td>235</td>\n",
       "      <td>3</td>\n",
       "      <td>2</td>\n",
       "      <td>...</td>\n",
       "      <td>1</td>\n",
       "      <td>1</td>\n",
       "      <td>5</td>\n",
       "      <td>3</td>\n",
       "      <td>1</td>\n",
       "      <td>4</td>\n",
       "      <td>1</td>\n",
       "      <td>1</td>\n",
       "      <td>6.0</td>\n",
       "      <td>neutral or dissatisfied</td>\n",
       "    </tr>\n",
       "    <tr>\n",
       "      <th>2</th>\n",
       "      <td>2</td>\n",
       "      <td>110028</td>\n",
       "      <td>Female</td>\n",
       "      <td>Loyal Customer</td>\n",
       "      <td>26</td>\n",
       "      <td>Business travel</td>\n",
       "      <td>Business</td>\n",
       "      <td>1142</td>\n",
       "      <td>2</td>\n",
       "      <td>2</td>\n",
       "      <td>...</td>\n",
       "      <td>5</td>\n",
       "      <td>4</td>\n",
       "      <td>3</td>\n",
       "      <td>4</td>\n",
       "      <td>4</td>\n",
       "      <td>4</td>\n",
       "      <td>5</td>\n",
       "      <td>0</td>\n",
       "      <td>0.0</td>\n",
       "      <td>satisfied</td>\n",
       "    </tr>\n",
       "    <tr>\n",
       "      <th>3</th>\n",
       "      <td>3</td>\n",
       "      <td>24026</td>\n",
       "      <td>Female</td>\n",
       "      <td>Loyal Customer</td>\n",
       "      <td>25</td>\n",
       "      <td>Business travel</td>\n",
       "      <td>Business</td>\n",
       "      <td>562</td>\n",
       "      <td>2</td>\n",
       "      <td>5</td>\n",
       "      <td>...</td>\n",
       "      <td>2</td>\n",
       "      <td>2</td>\n",
       "      <td>5</td>\n",
       "      <td>3</td>\n",
       "      <td>1</td>\n",
       "      <td>4</td>\n",
       "      <td>2</td>\n",
       "      <td>11</td>\n",
       "      <td>9.0</td>\n",
       "      <td>neutral or dissatisfied</td>\n",
       "    </tr>\n",
       "    <tr>\n",
       "      <th>4</th>\n",
       "      <td>4</td>\n",
       "      <td>119299</td>\n",
       "      <td>Male</td>\n",
       "      <td>Loyal Customer</td>\n",
       "      <td>61</td>\n",
       "      <td>Business travel</td>\n",
       "      <td>Business</td>\n",
       "      <td>214</td>\n",
       "      <td>3</td>\n",
       "      <td>3</td>\n",
       "      <td>...</td>\n",
       "      <td>3</td>\n",
       "      <td>3</td>\n",
       "      <td>4</td>\n",
       "      <td>4</td>\n",
       "      <td>3</td>\n",
       "      <td>3</td>\n",
       "      <td>3</td>\n",
       "      <td>0</td>\n",
       "      <td>0.0</td>\n",
       "      <td>satisfied</td>\n",
       "    </tr>\n",
       "  </tbody>\n",
       "</table>\n",
       "<p>5 rows × 25 columns</p>\n",
       "</div>"
      ]
     },
     "execution_count": 3,
     "metadata": {},
     "output_type": "execute_result"
    }
   ],
   "execution_count": 3
  },
  {
   "metadata": {
    "ExecuteTime": {
     "end_time": "2025-10-15T20:23:00.391149Z",
     "start_time": "2025-10-15T20:23:00.299804Z"
    }
   },
   "cell_type": "code",
   "source": [
    "df.info()\n",
    "df.describe()\n",
    "df['satisfaction'].value_counts(normalize=True)\n"
   ],
   "id": "95ad7a80e7214811",
   "outputs": [
    {
     "name": "stdout",
     "output_type": "stream",
     "text": [
      "<class 'pandas.core.frame.DataFrame'>\n",
      "RangeIndex: 1001 entries, 0 to 1000\n",
      "Data columns (total 25 columns):\n",
      " #   Column                             Non-Null Count  Dtype  \n",
      "---  ------                             --------------  -----  \n",
      " 0   lp                                 1001 non-null   int64  \n",
      " 1   id                                 1001 non-null   int64  \n",
      " 2   Gender                             1001 non-null   object \n",
      " 3   Customer Type                      1001 non-null   object \n",
      " 4   Age                                1001 non-null   int64  \n",
      " 5   Type of Travel                     1001 non-null   object \n",
      " 6   Class                              1001 non-null   object \n",
      " 7   Flight Distance                    1001 non-null   int64  \n",
      " 8   Inflight wifi service              1001 non-null   int64  \n",
      " 9   Departure/Arrival time convenient  1001 non-null   int64  \n",
      " 10  Ease of Online booking             1001 non-null   int64  \n",
      " 11  Gate location                      1001 non-null   int64  \n",
      " 12  Food and drink                     1001 non-null   int64  \n",
      " 13  Online boarding                    1001 non-null   int64  \n",
      " 14  Seat comfort                       1001 non-null   int64  \n",
      " 15  Inflight entertainment             1001 non-null   int64  \n",
      " 16  On-board service                   1001 non-null   int64  \n",
      " 17  Leg room service                   1001 non-null   int64  \n",
      " 18  Baggage handling                   1001 non-null   int64  \n",
      " 19  Checkin service                    1001 non-null   int64  \n",
      " 20  Inflight service                   1001 non-null   int64  \n",
      " 21  Cleanliness                        1001 non-null   int64  \n",
      " 22  Departure Delay in Minutes         1001 non-null   int64  \n",
      " 23  Arrival Delay in Minutes           1000 non-null   float64\n",
      " 24  satisfaction                       1001 non-null   object \n",
      "dtypes: float64(1), int64(19), object(5)\n",
      "memory usage: 195.6+ KB\n"
     ]
    },
    {
     "data": {
      "text/plain": [
       "satisfaction\n",
       "neutral or dissatisfied    0.56044\n",
       "satisfied                  0.43956\n",
       "Name: proportion, dtype: float64"
      ]
     },
     "execution_count": 4,
     "metadata": {},
     "output_type": "execute_result"
    }
   ],
   "execution_count": 4
  },
  {
   "metadata": {
    "ExecuteTime": {
     "end_time": "2025-10-15T20:23:02.729715Z",
     "start_time": "2025-10-15T20:23:02.721841Z"
    }
   },
   "cell_type": "code",
   "source": [
    "df['satisfaction'] = df['satisfaction'].map({'satisfied': 1, 'neutral or dissatisfied': 0})\n",
    "cat_cols = ['Gender', 'Customer Type', 'Type of Travel', 'Class']\n",
    "for col in cat_cols:\n",
    "    df[col] = df[col].astype('category')\n",
    "\n",
    "X = df.drop('satisfaction', axis=1)\n",
    "y = df['satisfaction']\n"
   ],
   "id": "6a70c6d2565b20e3",
   "outputs": [],
   "execution_count": 5
  },
  {
   "metadata": {
    "ExecuteTime": {
     "end_time": "2025-10-15T20:23:06.096589Z",
     "start_time": "2025-10-15T20:23:06.087162Z"
    }
   },
   "cell_type": "code",
   "source": [
    "\n",
    "# print(df['satisfaction'].head(10).tolist())\n",
    "\n",
    "\n",
    "# from sklearn.model_selection import train_test_split\n",
    "#\n",
    "# X_train, X_test, y_train, y_test = train_test_split(\n",
    "#     X, y, test_size=0.2, stratify=y, random_state=42\n",
    "# )\n",
    "\n",
    "print(y.value_counts())\n",
    "\n",
    "X_train, X_test, y_train, y_test = train_test_split(\n",
    "    X, y, test_size=0.2, stratify=y, random_state=42\n",
    ")\n",
    "\n"
   ],
   "id": "d28aeb6a450753",
   "outputs": [
    {
     "name": "stdout",
     "output_type": "stream",
     "text": [
      "satisfaction\n",
      "0    561\n",
      "1    440\n",
      "Name: count, dtype: int64\n"
     ]
    }
   ],
   "execution_count": 6
  },
  {
   "metadata": {
    "ExecuteTime": {
     "end_time": "2025-10-15T20:23:53.043219Z",
     "start_time": "2025-10-15T20:23:52.799849Z"
    }
   },
   "cell_type": "code",
   "source": [
    "import lightgbm as lgb\n",
    "\n",
    "train_data = lgb.Dataset(X_train, label=y_train, categorical_feature=cat_cols)\n",
    "test_data = lgb.Dataset(X_test, label=y_test, categorical_feature=cat_cols, reference=train_data)\n",
    "\n",
    "params = {\n",
    "    'objective': 'binary',\n",
    "    'metric': ['auc', 'binary_logloss'],\n",
    "    'boosting_type': 'gbdt',\n",
    "    'num_leaves': 31,\n",
    "    'learning_rate': 0.05,\n",
    "    'feature_fraction': 0.8,\n",
    "    'bagging_fraction': 0.8,\n",
    "    'bagging_freq': 5,\n",
    "    'verbosity': -1\n",
    "}\n",
    "\n",
    "model = lgb.train(\n",
    "    params,\n",
    "    train_data,\n",
    "    valid_sets=[train_data, test_data],\n",
    "    valid_names=['train', 'valid'],\n",
    "    num_boost_round=1000,\n",
    "    callbacks=[\n",
    "        lgb.early_stopping(stopping_rounds=50),\n",
    "        lgb.log_evaluation(period=100)\n",
    "    ]\n",
    ")\n"
   ],
   "id": "9b23e0cc30190e28",
   "outputs": [
    {
     "name": "stdout",
     "output_type": "stream",
     "text": [
      "Training until validation scores don't improve for 50 rounds\n",
      "[100]\ttrain's auc: 1\ttrain's binary_logloss: 0.0582192\tvalid's auc: 0.977273\tvalid's binary_logloss: 0.190116\n",
      "Early stopping, best iteration is:\n",
      "[134]\ttrain's auc: 1\ttrain's binary_logloss: 0.0317889\tvalid's auc: 0.979988\tvalid's binary_logloss: 0.187523\n"
     ]
    }
   ],
   "execution_count": 8
  },
  {
   "metadata": {
    "ExecuteTime": {
     "end_time": "2025-10-15T20:23:54.757108Z",
     "start_time": "2025-10-15T20:23:54.732464Z"
    }
   },
   "cell_type": "code",
   "source": [
    "y_pred_proba = model.predict(X_test, num_iteration=model.best_iteration)\n",
    "y_pred = (y_pred_proba > 0.5).astype(int)\n",
    "\n",
    "print(\"Accuracy:\", accuracy_score(y_test, y_pred))\n",
    "print(\"AUC:\", roc_auc_score(y_test, y_pred_proba))\n",
    "print(classification_report(y_test, y_pred))\n"
   ],
   "id": "8fad21e8a44c71bc",
   "outputs": [
    {
     "name": "stdout",
     "output_type": "stream",
     "text": [
      "Accuracy: 0.9402985074626866\n",
      "AUC: 0.9799879324215608\n",
      "              precision    recall  f1-score   support\n",
      "\n",
      "           0       0.94      0.96      0.95       113\n",
      "           1       0.94      0.92      0.93        88\n",
      "\n",
      "    accuracy                           0.94       201\n",
      "   macro avg       0.94      0.94      0.94       201\n",
      "weighted avg       0.94      0.94      0.94       201\n",
      "\n"
     ]
    }
   ],
   "execution_count": 9
  },
  {
   "metadata": {
    "ExecuteTime": {
     "end_time": "2025-10-15T20:23:56.864213Z",
     "start_time": "2025-10-15T20:23:56.553573Z"
    }
   },
   "cell_type": "code",
   "source": [
    "plt.figure(figsize=(10,6))\n",
    "lgb.plot_importance(model, max_num_features=15, importance_type='gain')\n",
    "plt.title(\"Feature Importance (LightGBM)\")\n",
    "plt.show()\n"
   ],
   "id": "ec033b38aa4e565f",
   "outputs": [
    {
     "data": {
      "text/plain": [
       "<Figure size 1000x600 with 0 Axes>"
      ]
     },
     "metadata": {},
     "output_type": "display_data",
     "jetTransient": {
      "display_id": null
     }
    },
    {
     "data": {
      "text/plain": [
       "<Figure size 640x480 with 1 Axes>"
      ],
      "image/png": "[encoded data removed]"
     },
     "metadata": {},
     "output_type": "display_data",
     "jetTransient": {
      "display_id": null
     }
    }
   ],
   "execution_count": 10
  },
  {
   "metadata": {
    "ExecuteTime": {
     "end_time": "2025-10-15T20:24:12.531804Z",
     "start_time": "2025-10-15T20:24:12.487838Z"
    }
   },
   "cell_type": "code",
   "source": [
    "#EWENTUALNIE TUTAJ JAK CHCEMY ZAPISAĆ\n",
    "model.save_model(\"lightgbm_baseline.txt\")\n"
   ],
   "id": "5cd0d59749a4aec2",
   "outputs": [
    {
     "ename": "LightGBMError",
     "evalue": "Model file notebooks/lightgbm_baseline.txt is not available for writes",
     "output_type": "error",
     "traceback": [
      "\u001B[31m---------------------------------------------------------------------------\u001B[39m",
      "\u001B[31mLightGBMError\u001B[39m                             Traceback (most recent call last)",
      "\u001B[36mCell\u001B[39m\u001B[36m \u001B[39m\u001B[32mIn[12]\u001B[39m\u001B[32m, line 1\u001B[39m\n\u001B[32m----> \u001B[39m\u001B[32m1\u001B[39m \u001B[43mmodel\u001B[49m\u001B[43m.\u001B[49m\u001B[43msave_model\u001B[49m\u001B[43m(\u001B[49m\u001B[33;43m\"\u001B[39;49m\u001B[33;43mnotebooks/lightgbm_baseline.txt\u001B[39;49m\u001B[33;43m\"\u001B[39;49m\u001B[43m)\u001B[49m\n",
      "\u001B[36mFile \u001B[39m\u001B[32m~\\miniconda3\\envs\\ASI_project_ZIMA\\Lib\\site-packages\\lightgbm\\basic.py:4480\u001B[39m, in \u001B[36mBooster.save_model\u001B[39m\u001B[34m(self, filename, num_iteration, start_iteration, importance_type)\u001B[39m\n\u001B[32m   4478\u001B[39m     num_iteration = \u001B[38;5;28mself\u001B[39m.best_iteration\n\u001B[32m   4479\u001B[39m importance_type_int = _FEATURE_IMPORTANCE_TYPE_MAPPER[importance_type]\n\u001B[32m-> \u001B[39m\u001B[32m4480\u001B[39m \u001B[43m_safe_call\u001B[49m\u001B[43m(\u001B[49m\n\u001B[32m   4481\u001B[39m \u001B[43m    \u001B[49m\u001B[43m_LIB\u001B[49m\u001B[43m.\u001B[49m\u001B[43mLGBM_BoosterSaveModel\u001B[49m\u001B[43m(\u001B[49m\n\u001B[32m   4482\u001B[39m \u001B[43m        \u001B[49m\u001B[38;5;28;43mself\u001B[39;49m\u001B[43m.\u001B[49m\u001B[43m_handle\u001B[49m\u001B[43m,\u001B[49m\n\u001B[32m   4483\u001B[39m \u001B[43m        \u001B[49m\u001B[43mctypes\u001B[49m\u001B[43m.\u001B[49m\u001B[43mc_int\u001B[49m\u001B[43m(\u001B[49m\u001B[43mstart_iteration\u001B[49m\u001B[43m)\u001B[49m\u001B[43m,\u001B[49m\n\u001B[32m   4484\u001B[39m \u001B[43m        \u001B[49m\u001B[43mctypes\u001B[49m\u001B[43m.\u001B[49m\u001B[43mc_int\u001B[49m\u001B[43m(\u001B[49m\u001B[43mnum_iteration\u001B[49m\u001B[43m)\u001B[49m\u001B[43m,\u001B[49m\n\u001B[32m   4485\u001B[39m \u001B[43m        \u001B[49m\u001B[43mctypes\u001B[49m\u001B[43m.\u001B[49m\u001B[43mc_int\u001B[49m\u001B[43m(\u001B[49m\u001B[43mimportance_type_int\u001B[49m\u001B[43m)\u001B[49m\u001B[43m,\u001B[49m\n\u001B[32m   4486\u001B[39m \u001B[43m        \u001B[49m\u001B[43m_c_str\u001B[49m\u001B[43m(\u001B[49m\u001B[38;5;28;43mstr\u001B[39;49m\u001B[43m(\u001B[49m\u001B[43mfilename\u001B[49m\u001B[43m)\u001B[49m\u001B[43m)\u001B[49m\u001B[43m,\u001B[49m\n\u001B[32m   4487\u001B[39m \u001B[43m    \u001B[49m\u001B[43m)\u001B[49m\n\u001B[32m   4488\u001B[39m \u001B[43m\u001B[49m\u001B[43m)\u001B[49m\n\u001B[32m   4489\u001B[39m _dump_pandas_categorical(\u001B[38;5;28mself\u001B[39m.pandas_categorical, filename)\n\u001B[32m   4490\u001B[39m \u001B[38;5;28;01mreturn\u001B[39;00m \u001B[38;5;28mself\u001B[39m\n",
      "\u001B[36mFile \u001B[39m\u001B[32m~\\miniconda3\\envs\\ASI_project_ZIMA\\Lib\\site-packages\\lightgbm\\basic.py:313\u001B[39m, in \u001B[36m_safe_call\u001B[39m\u001B[34m(ret)\u001B[39m\n\u001B[32m    305\u001B[39m \u001B[38;5;250m\u001B[39m\u001B[33;03m\"\"\"Check the return value from C API call.\u001B[39;00m\n\u001B[32m    306\u001B[39m \n\u001B[32m    307\u001B[39m \u001B[33;03mParameters\u001B[39;00m\n\u001B[32m   (...)\u001B[39m\u001B[32m    310\u001B[39m \u001B[33;03m    The return value from C API calls.\u001B[39;00m\n\u001B[32m    311\u001B[39m \u001B[33;03m\"\"\"\u001B[39;00m\n\u001B[32m    312\u001B[39m \u001B[38;5;28;01mif\u001B[39;00m ret != \u001B[32m0\u001B[39m:\n\u001B[32m--> \u001B[39m\u001B[32m313\u001B[39m     \u001B[38;5;28;01mraise\u001B[39;00m LightGBMError(_LIB.LGBM_GetLastError().decode(\u001B[33m\"\u001B[39m\u001B[33mutf-8\u001B[39m\u001B[33m\"\u001B[39m))\n",
      "\u001B[31mLightGBMError\u001B[39m: Model file notebooks/lightgbm_baseline.txt is not available for writes"
     ]
    }
   ],
   "execution_count": 12
  }
 ],
 "metadata": {
  "kernelspec": {
   "name": "python3",
   "language": "python",
   "display_name": "Python 3 (ipykernel)"
  }
 },
 "nbformat": 4,
 "nbformat_minor": 5
}
